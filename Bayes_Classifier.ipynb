{
  "nbformat": 4,
  "nbformat_minor": 0,
  "metadata": {
    "colab": {
      "provenance": []
    },
    "kernelspec": {
      "name": "python3",
      "display_name": "Python 3"
    },
    "language_info": {
      "name": "python"
    }
  },
  "cells": [
    {
      "cell_type": "markdown",
      "source": [
        "Agenda !\n",
        "* Understanding Naive Bayes algorithm\n",
        "* Working of Bayes Algorithms.\n",
        "* Merits and Demerits of using Naive Bayes\n",
        "* Naive Bayes Algorithm Applications\n",
        "* Types of Bayes Algorithm\n",
        "* How to improve the power of Naive Bayes Model\n",
        "* Naive Bayes Model in Python\n",
        "\n",
        "\n"
      ],
      "metadata": {
        "id": "DCSR054-6vYd"
      }
    },
    {
      "cell_type": "markdown",
      "source": [
        "**Understanding Naive Bayes Algorithm**\n",
        "Naive Bayes classifier assumes that the presence of a particular feature in a class is unrelated to the presence of any other feature. Bayes theorem provides a way of calculating posterior probability P(c|x) from P(c), P(x) and P(x|c).\n"
      ],
      "metadata": {
        "id": "-ZP4MdNz7BcW"
      }
    },
    {
      "cell_type": "markdown",
      "source": [
        "**Working of Bayes Algorithms.**\n",
        "Naive Bayes classifier calculates the probability of an event in the following\n",
        "steps:\n",
        "\n",
        "Step 1: Calculate the prior probability for given class labels\n",
        "\n",
        "Step 2: Find Likelihood probability with each attribute for each class\n",
        "\n",
        "Step 3: Put these value in Bayes Formula and calculate posterior probability.\n",
        "\n",
        "Step 4: See which class has a higher probability, given the input belongs to the higher probability class.\n"
      ],
      "metadata": {
        "id": "9knuUAVV7VXu"
      }
    },
    {
      "cell_type": "markdown",
      "source": [
        "# Merits and Demerits of using Naive Bayes\n",
        "\n",
        "Merits:\n",
        "\n",
        "It is easy and fast to predict class of test data set.\n",
        "It also perform well in multi class prediction.\n",
        "When assumption of independence holds, a Naive Bayes classifier performs better compare to other models like logistic regression and you need less training data.\n",
        "It perform well in case of categorical input variables compared to numerical variable(s).\n",
        "For numerical variable, normal distribution is assumed (bell curve, which is a strong assumption).\n",
        "\n",
        "Demerits\n",
        "\n",
        "If categorical variable has a category (in test data set), which was not observed in training data set, then model will assign a 0 (zero) probability and will be unable to make a prediction. This is often known as “Zero Frequency”. To solve this, we can use the smoothing technique. One of the simplest smoothing techniques is called Laplace estimation.\n",
        "On the other side naive Bayes is also known as a bad estimator, so the probability outputs from predict_proba are not to be taken too seriously.\n",
        "Another limitation of Naive Bayes is the assumption of independent predictors. In real life, it is almost impossible that we get a set of predictors which are completely independent.\n"
      ],
      "metadata": {
        "id": "QcJ4Q5pw7fNN"
      }
    },
    {
      "cell_type": "markdown",
      "source": [
        "Naive Bayes Algorithm Applications\n",
        "\n",
        "Real time Prediction: Naive Bayes is an eager learning classifier and it is sure fast. Thus, it could be used for making predictions in real time.\n",
        "\n",
        "Multi class Prediction: This algorithm is also well known for multi class prediction feature. Here we can predict the probability of multiple classes of target variable.\n",
        "\n",
        "Text classification/ Spam Filtering/ Sentiment Analysis: Naive Bayes classifiers mostly used in text classification (due to better result in multi class problems and independence rule) have higher success rate as compared to other algorithms. As a result, it is widely used in Spam filtering (identify spam e-mail) and Sentiment Analysis (in social media analysis, to identify positive and negative customer sentiments)\n",
        "\n",
        "Recommendation System: Naive Bayes Classifier and Collaborative Filtering together builds a Recommendation System that uses machine learning and data mining techniques to filter unseen information and predict whether a user would like a given resource or not\n"
      ],
      "metadata": {
        "id": "QEiVwR6x7m5V"
      }
    },
    {
      "cell_type": "markdown",
      "source": [
        "There are three types of Naive Bayes model under the scikit-learn library:\n",
        "\n",
        "Gaussian : It is used in classification and it assumes that features follow a normal distribution.\n",
        "\n",
        "Multinomial : It is used for discrete counts. For example, let’s say, we have a text classification problem. Here we can consider Bernoulli trials which is one step further and instead of “word occurring in the document”, we have “count how often word occurs in the document”, you can think of it as “number of times outcome number x_i is observed over the n trials”.\n",
        "\n",
        "Bernoulli : The binomial model is useful if your feature vectors are binary (i.e. zeros and ones). One application would be text classification with ‘bag of words’ model where the 1s & 0s are “word occurs in the document” and “word does not occur in the document” respectively.\n"
      ],
      "metadata": {
        "id": "_Nq-ukAu7uem"
      }
    },
    {
      "cell_type": "markdown",
      "source": [
        "**How to improve the power of Naive Bayes Model**\n",
        "\n",
        "If continuous features do not have normal distribution, we should use transformation or different methods to convert it in normal distribution.\n",
        "If test data set has zero frequency issue, apply smoothing techniques “Laplace Correction” to predict the class of test data set. Remove correlated features, as the highly correlated features are voted twice in the model and it can lead to over inflating importance. Naive Bayes classifiers has limited options for parameter tuning like alpha=1 for smoothing, fit_prior=[True|False] to learn class prior probabilities or not and some other options (check documentation). It is recommended to focus on your pre-processing of data and the feature selection.\n",
        "You might think to apply some classifier combination technique like ensembling, bagging and boosting but these methods would not help. Actually, “ensembling, boosting, bagging” won’t help since their purpose is to reduce variance. Naive Bayes has no variance to minimize\n"
      ],
      "metadata": {
        "id": "vJrGJPMV72hG"
      }
    },
    {
      "cell_type": "code",
      "execution_count": null,
      "metadata": {
        "id": "MZY2juEq6qYU",
        "colab": {
          "base_uri": "https://localhost:8080/"
        },
        "outputId": "e4d290f9-9bf4-4e40-9de1-01e9455f1602"
      },
      "outputs": [
        {
          "output_type": "stream",
          "name": "stdout",
          "text": [
            "libaries imported\n"
          ]
        }
      ],
      "source": [
        "#import lib\n",
        "import numpy as np\n",
        "import pandas as pd\n",
        "import matplotlib.pyplot as plt\n",
        "from sklearn.naive_bayes import GaussianNB\n",
        "from sklearn import metrics\n",
        "print(\"libaries imported\")"
      ]
    },
    {
      "cell_type": "code",
      "source": [
        "dataset = pd.read_csv('/content/Sleep_health_and_lifestyle_dataset.csv')\n",
        "dataset.head()\n",
        "print(\"DAtaset loaded\")"
      ],
      "metadata": {
        "id": "QP9Nutyn-kWd",
        "colab": {
          "base_uri": "https://localhost:8080/"
        },
        "outputId": "39af6ec6-4eae-410f-941a-68b6033e5309"
      },
      "execution_count": null,
      "outputs": [
        {
          "output_type": "stream",
          "name": "stdout",
          "text": [
            "DAtaset loaded\n"
          ]
        }
      ]
    },
    {
      "cell_type": "code",
      "source": [
        "X = dataset.iloc[:, 5].values\n",
        "y = dataset.iloc[:, 8].values"
      ],
      "metadata": {
        "id": "Jb10-Glh24_U"
      },
      "execution_count": null,
      "outputs": []
    },
    {
      "cell_type": "code",
      "source": [
        "dataset.drop(columns=['BMI Category'], inplace=True)\n",
        "\n",
        "print(dataset.head())\n"
      ],
      "metadata": {
        "colab": {
          "base_uri": "https://localhost:8080/"
        },
        "id": "UG5pn66V0RWt",
        "outputId": "5a9dce45-8ada-44c9-c68d-31806be7bac4"
      },
      "execution_count": null,
      "outputs": [
        {
          "output_type": "stream",
          "name": "stdout",
          "text": [
            "   Person ID Gender  Age            Occupation  Sleep Duration  \\\n",
            "0          1   Male   27     Software Engineer             6.1   \n",
            "1          2   Male   28                Doctor             6.2   \n",
            "2          3   Male   28                Doctor             6.2   \n",
            "3          4   Male   28  Sales Representative             5.9   \n",
            "4          5   Male   28  Sales Representative             5.9   \n",
            "\n",
            "   Quality of Sleep  Physical Activity Level  Stress Level Blood Pressure  \\\n",
            "0                 6                       42             6         126/83   \n",
            "1                 6                       60             8         125/80   \n",
            "2                 6                       60             8         125/80   \n",
            "3                 4                       30             8         140/90   \n",
            "4                 4                       30             8         140/90   \n",
            "\n",
            "   Heart Rate  Daily Steps Sleep Disorder  \n",
            "0          77         4200            NaN  \n",
            "1          75        10000            NaN  \n",
            "2          75        10000            NaN  \n",
            "3          85         3000    Sleep Apnea  \n",
            "4          85         3000    Sleep Apnea  \n"
          ]
        }
      ]
    },
    {
      "cell_type": "code",
      "source": [
        "#select the 5 and 6th columns\n",
        "X = dataset.iloc[:, 5].values\n",
        "y = dataset.iloc[:, 7].values"
      ],
      "metadata": {
        "id": "kpT2AHJ_zxOE"
      },
      "execution_count": null,
      "outputs": []
    },
    {
      "cell_type": "code",
      "source": [
        "print(X)\n",
        "print(y)"
      ],
      "metadata": {
        "colab": {
          "base_uri": "https://localhost:8080/"
        },
        "id": "0GL-Ao1s_kEe",
        "outputId": "7a160032-cc7c-4a5c-ac5b-5d7edb130049"
      },
      "execution_count": null,
      "outputs": [
        {
          "output_type": "stream",
          "name": "stdout",
          "text": [
            "[6 6 6 4 4 4 6 7 7 7 6 7 6 6 6 6 5 6 5 7 7 7 7 7 7 7 7 7 7 7 5 5 8 6 7 6 6\n",
            " 7 7 7 7 7 7 7 7 7 7 7 7 7 8 8 6 7 6 6 7 6 6 7 6 6 6 6 6 6 8 6 6 6 6 6 6 6\n",
            " 6 6 6 6 6 6 4 4 7 7 8 8 8 8 8 8 8 8 8 7 8 8 8 8 8 8 8 8 8 5 8 5 6 8 8 8 8\n",
            " 8 8 8 8 8 8 8 8 8 8 8 8 8 8 8 8 8 8 8 8 8 8 8 8 8 8 8 8 8 8 8 8 8 8 7 8 5\n",
            " 7 9 9 8 8 8 8 8 8 8 8 8 8 8 8 8 8 8 8 7 7 8 8 8 8 8 8 8 8 6 8 8 8 8 8 8 6\n",
            " 6 7 6 7 6 7 6 6 6 6 6 6 6 6 6 6 8 8 6 8 8 8 8 8 8 8 8 8 8 8 8 8 8 8 6 7 6\n",
            " 6 6 7 6 7 6 7 6 7 6 7 6 7 6 6 7 6 6 7 6 6 7 6 7 6 7 6 6 7 7 7 7 7 7 7 7 7\n",
            " 7 7 7 7 7 7 6 7 6 6 6 6 6 6 6 6 6 9 9 6 9 6 6 6 6 6 6 6 6 6 6 6 6 6 6 6 6\n",
            " 6 6 9 9 9 9 7 6 6 6 7 7 7 7 7 7 9 9 9 9 9 9 9 9 9 9 9 9 9 9 9 9 9 9 9 9 9\n",
            " 9 9 9 9 9 9 9 9 9 9 9 9 9 9 9 9 9 9 9 9 9 9 9 9 9 9 9 9 9 9 9 9 9 9 9 9 9\n",
            " 9 9 9 9]\n",
            "[6 8 8 8 8 8 7 6 6 6 8 6 8 8 8 8 7 8 7 6 6 6 6 6 6 6 6 6 6 6 7 7 4 8 6 8 8\n",
            " 6 6 6 6 6 6 6 6 6 6 6 6 6 3 3 8 6 8 8 6 8 8 6 8 8 8 8 8 8 6 8 6 6 8 8 8 8\n",
            " 8 8 8 8 8 8 8 8 5 5 5 4 4 4 4 4 4 4 5 5 4 4 4 4 4 4 4 4 4 7 4 7 6 4 4 5 4\n",
            " 5 4 5 4 4 4 4 4 4 4 4 4 4 4 4 5 4 5 5 4 5 5 4 5 5 4 5 4 5 4 5 4 4 5 5 5 7\n",
            " 6 3 3 5 5 5 5 5 5 5 5 5 5 6 6 5 5 5 6 6 6 5 5 5 5 5 5 5 5 7 5 5 5 5 5 5 7\n",
            " 7 4 7 4 7 4 7 7 7 7 7 7 7 7 7 7 5 5 7 4 5 5 5 5 5 5 5 5 5 5 5 5 5 5 7 4 7\n",
            " 7 7 4 7 4 7 4 7 4 7 4 7 4 7 7 4 7 7 4 7 7 4 7 4 7 7 7 7 6 6 4 4 4 4 4 4 4\n",
            " 4 4 4 4 5 5 8 5 8 8 8 8 8 8 8 8 8 3 3 8 3 8 8 8 8 8 8 8 8 8 8 8 8 8 8 8 8\n",
            " 8 8 3 3 3 3 6 8 8 8 7 7 7 7 7 7 3 3 3 3 3 3 3 3 3 3 3 3 3 3 3 3 3 3 3 3 3\n",
            " 3 3 3 3 3 3 4 4 3 3 3 3 3 3 3 3 3 3 3 3 3 3 3 3 3 3 3 3 3 3 3 3 3 3 3 3 3\n",
            " 3 3 3 3]\n"
          ]
        }
      ]
    },
    {
      "source": [
        "from sklearn.preprocessing import StandardScaler\n",
        "sc = StandardScaler()\n",
        "X = sc.fit_transform(X.reshape(-1, 1))"
      ],
      "cell_type": "code",
      "metadata": {
        "id": "2IbMaUyf3XQF"
      },
      "execution_count": null,
      "outputs": []
    },
    {
      "cell_type": "code",
      "source": [
        "from sklearn.preprocessing import StandardScaler\n",
        "sc = StandardScaler()\n",
        "X = sc.fit_transform(X)\n",
        "print(\"tranformed data\")\n",
        "print(X)"
      ],
      "metadata": {
        "colab": {
          "base_uri": "https://localhost:8080/"
        },
        "id": "YfssszLx1Xl8",
        "outputId": "46d0b716-dc77-4737-db1b-1a0831c47a44"
      },
      "execution_count": null,
      "outputs": [
        {
          "output_type": "stream",
          "name": "stdout",
          "text": [
            "tranformed data\n",
            "[[-1.09828011]\n",
            " [-1.09828011]\n",
            " [-1.09828011]\n",
            " [-2.77142374]\n",
            " [-2.77142374]\n",
            " [-2.77142374]\n",
            " [-1.09828011]\n",
            " [-0.26170829]\n",
            " [-0.26170829]\n",
            " [-0.26170829]\n",
            " [-1.09828011]\n",
            " [-0.26170829]\n",
            " [-1.09828011]\n",
            " [-1.09828011]\n",
            " [-1.09828011]\n",
            " [-1.09828011]\n",
            " [-1.93485192]\n",
            " [-1.09828011]\n",
            " [-1.93485192]\n",
            " [-0.26170829]\n",
            " [-0.26170829]\n",
            " [-0.26170829]\n",
            " [-0.26170829]\n",
            " [-0.26170829]\n",
            " [-0.26170829]\n",
            " [-0.26170829]\n",
            " [-0.26170829]\n",
            " [-0.26170829]\n",
            " [-0.26170829]\n",
            " [-0.26170829]\n",
            " [-1.93485192]\n",
            " [-1.93485192]\n",
            " [ 0.57486352]\n",
            " [-1.09828011]\n",
            " [-0.26170829]\n",
            " [-1.09828011]\n",
            " [-1.09828011]\n",
            " [-0.26170829]\n",
            " [-0.26170829]\n",
            " [-0.26170829]\n",
            " [-0.26170829]\n",
            " [-0.26170829]\n",
            " [-0.26170829]\n",
            " [-0.26170829]\n",
            " [-0.26170829]\n",
            " [-0.26170829]\n",
            " [-0.26170829]\n",
            " [-0.26170829]\n",
            " [-0.26170829]\n",
            " [-0.26170829]\n",
            " [ 0.57486352]\n",
            " [ 0.57486352]\n",
            " [-1.09828011]\n",
            " [-0.26170829]\n",
            " [-1.09828011]\n",
            " [-1.09828011]\n",
            " [-0.26170829]\n",
            " [-1.09828011]\n",
            " [-1.09828011]\n",
            " [-0.26170829]\n",
            " [-1.09828011]\n",
            " [-1.09828011]\n",
            " [-1.09828011]\n",
            " [-1.09828011]\n",
            " [-1.09828011]\n",
            " [-1.09828011]\n",
            " [ 0.57486352]\n",
            " [-1.09828011]\n",
            " [-1.09828011]\n",
            " [-1.09828011]\n",
            " [-1.09828011]\n",
            " [-1.09828011]\n",
            " [-1.09828011]\n",
            " [-1.09828011]\n",
            " [-1.09828011]\n",
            " [-1.09828011]\n",
            " [-1.09828011]\n",
            " [-1.09828011]\n",
            " [-1.09828011]\n",
            " [-1.09828011]\n",
            " [-2.77142374]\n",
            " [-2.77142374]\n",
            " [-0.26170829]\n",
            " [-0.26170829]\n",
            " [ 0.57486352]\n",
            " [ 0.57486352]\n",
            " [ 0.57486352]\n",
            " [ 0.57486352]\n",
            " [ 0.57486352]\n",
            " [ 0.57486352]\n",
            " [ 0.57486352]\n",
            " [ 0.57486352]\n",
            " [ 0.57486352]\n",
            " [-0.26170829]\n",
            " [ 0.57486352]\n",
            " [ 0.57486352]\n",
            " [ 0.57486352]\n",
            " [ 0.57486352]\n",
            " [ 0.57486352]\n",
            " [ 0.57486352]\n",
            " [ 0.57486352]\n",
            " [ 0.57486352]\n",
            " [ 0.57486352]\n",
            " [-1.93485192]\n",
            " [ 0.57486352]\n",
            " [-1.93485192]\n",
            " [-1.09828011]\n",
            " [ 0.57486352]\n",
            " [ 0.57486352]\n",
            " [ 0.57486352]\n",
            " [ 0.57486352]\n",
            " [ 0.57486352]\n",
            " [ 0.57486352]\n",
            " [ 0.57486352]\n",
            " [ 0.57486352]\n",
            " [ 0.57486352]\n",
            " [ 0.57486352]\n",
            " [ 0.57486352]\n",
            " [ 0.57486352]\n",
            " [ 0.57486352]\n",
            " [ 0.57486352]\n",
            " [ 0.57486352]\n",
            " [ 0.57486352]\n",
            " [ 0.57486352]\n",
            " [ 0.57486352]\n",
            " [ 0.57486352]\n",
            " [ 0.57486352]\n",
            " [ 0.57486352]\n",
            " [ 0.57486352]\n",
            " [ 0.57486352]\n",
            " [ 0.57486352]\n",
            " [ 0.57486352]\n",
            " [ 0.57486352]\n",
            " [ 0.57486352]\n",
            " [ 0.57486352]\n",
            " [ 0.57486352]\n",
            " [ 0.57486352]\n",
            " [ 0.57486352]\n",
            " [ 0.57486352]\n",
            " [ 0.57486352]\n",
            " [ 0.57486352]\n",
            " [ 0.57486352]\n",
            " [ 0.57486352]\n",
            " [ 0.57486352]\n",
            " [ 0.57486352]\n",
            " [-0.26170829]\n",
            " [ 0.57486352]\n",
            " [-1.93485192]\n",
            " [-0.26170829]\n",
            " [ 1.41143533]\n",
            " [ 1.41143533]\n",
            " [ 0.57486352]\n",
            " [ 0.57486352]\n",
            " [ 0.57486352]\n",
            " [ 0.57486352]\n",
            " [ 0.57486352]\n",
            " [ 0.57486352]\n",
            " [ 0.57486352]\n",
            " [ 0.57486352]\n",
            " [ 0.57486352]\n",
            " [ 0.57486352]\n",
            " [ 0.57486352]\n",
            " [ 0.57486352]\n",
            " [ 0.57486352]\n",
            " [ 0.57486352]\n",
            " [ 0.57486352]\n",
            " [ 0.57486352]\n",
            " [-0.26170829]\n",
            " [-0.26170829]\n",
            " [ 0.57486352]\n",
            " [ 0.57486352]\n",
            " [ 0.57486352]\n",
            " [ 0.57486352]\n",
            " [ 0.57486352]\n",
            " [ 0.57486352]\n",
            " [ 0.57486352]\n",
            " [ 0.57486352]\n",
            " [-1.09828011]\n",
            " [ 0.57486352]\n",
            " [ 0.57486352]\n",
            " [ 0.57486352]\n",
            " [ 0.57486352]\n",
            " [ 0.57486352]\n",
            " [ 0.57486352]\n",
            " [-1.09828011]\n",
            " [-1.09828011]\n",
            " [-0.26170829]\n",
            " [-1.09828011]\n",
            " [-0.26170829]\n",
            " [-1.09828011]\n",
            " [-0.26170829]\n",
            " [-1.09828011]\n",
            " [-1.09828011]\n",
            " [-1.09828011]\n",
            " [-1.09828011]\n",
            " [-1.09828011]\n",
            " [-1.09828011]\n",
            " [-1.09828011]\n",
            " [-1.09828011]\n",
            " [-1.09828011]\n",
            " [-1.09828011]\n",
            " [ 0.57486352]\n",
            " [ 0.57486352]\n",
            " [-1.09828011]\n",
            " [ 0.57486352]\n",
            " [ 0.57486352]\n",
            " [ 0.57486352]\n",
            " [ 0.57486352]\n",
            " [ 0.57486352]\n",
            " [ 0.57486352]\n",
            " [ 0.57486352]\n",
            " [ 0.57486352]\n",
            " [ 0.57486352]\n",
            " [ 0.57486352]\n",
            " [ 0.57486352]\n",
            " [ 0.57486352]\n",
            " [ 0.57486352]\n",
            " [ 0.57486352]\n",
            " [ 0.57486352]\n",
            " [-1.09828011]\n",
            " [-0.26170829]\n",
            " [-1.09828011]\n",
            " [-1.09828011]\n",
            " [-1.09828011]\n",
            " [-0.26170829]\n",
            " [-1.09828011]\n",
            " [-0.26170829]\n",
            " [-1.09828011]\n",
            " [-0.26170829]\n",
            " [-1.09828011]\n",
            " [-0.26170829]\n",
            " [-1.09828011]\n",
            " [-0.26170829]\n",
            " [-1.09828011]\n",
            " [-0.26170829]\n",
            " [-1.09828011]\n",
            " [-1.09828011]\n",
            " [-0.26170829]\n",
            " [-1.09828011]\n",
            " [-1.09828011]\n",
            " [-0.26170829]\n",
            " [-1.09828011]\n",
            " [-1.09828011]\n",
            " [-0.26170829]\n",
            " [-1.09828011]\n",
            " [-0.26170829]\n",
            " [-1.09828011]\n",
            " [-0.26170829]\n",
            " [-1.09828011]\n",
            " [-1.09828011]\n",
            " [-0.26170829]\n",
            " [-0.26170829]\n",
            " [-0.26170829]\n",
            " [-0.26170829]\n",
            " [-0.26170829]\n",
            " [-0.26170829]\n",
            " [-0.26170829]\n",
            " [-0.26170829]\n",
            " [-0.26170829]\n",
            " [-0.26170829]\n",
            " [-0.26170829]\n",
            " [-0.26170829]\n",
            " [-0.26170829]\n",
            " [-0.26170829]\n",
            " [-0.26170829]\n",
            " [-1.09828011]\n",
            " [-0.26170829]\n",
            " [-1.09828011]\n",
            " [-1.09828011]\n",
            " [-1.09828011]\n",
            " [-1.09828011]\n",
            " [-1.09828011]\n",
            " [-1.09828011]\n",
            " [-1.09828011]\n",
            " [-1.09828011]\n",
            " [-1.09828011]\n",
            " [ 1.41143533]\n",
            " [ 1.41143533]\n",
            " [-1.09828011]\n",
            " [ 1.41143533]\n",
            " [-1.09828011]\n",
            " [-1.09828011]\n",
            " [-1.09828011]\n",
            " [-1.09828011]\n",
            " [-1.09828011]\n",
            " [-1.09828011]\n",
            " [-1.09828011]\n",
            " [-1.09828011]\n",
            " [-1.09828011]\n",
            " [-1.09828011]\n",
            " [-1.09828011]\n",
            " [-1.09828011]\n",
            " [-1.09828011]\n",
            " [-1.09828011]\n",
            " [-1.09828011]\n",
            " [-1.09828011]\n",
            " [-1.09828011]\n",
            " [-1.09828011]\n",
            " [ 1.41143533]\n",
            " [ 1.41143533]\n",
            " [ 1.41143533]\n",
            " [ 1.41143533]\n",
            " [-0.26170829]\n",
            " [-1.09828011]\n",
            " [-1.09828011]\n",
            " [-1.09828011]\n",
            " [-0.26170829]\n",
            " [-0.26170829]\n",
            " [-0.26170829]\n",
            " [-0.26170829]\n",
            " [-0.26170829]\n",
            " [-0.26170829]\n",
            " [ 1.41143533]\n",
            " [ 1.41143533]\n",
            " [ 1.41143533]\n",
            " [ 1.41143533]\n",
            " [ 1.41143533]\n",
            " [ 1.41143533]\n",
            " [ 1.41143533]\n",
            " [ 1.41143533]\n",
            " [ 1.41143533]\n",
            " [ 1.41143533]\n",
            " [ 1.41143533]\n",
            " [ 1.41143533]\n",
            " [ 1.41143533]\n",
            " [ 1.41143533]\n",
            " [ 1.41143533]\n",
            " [ 1.41143533]\n",
            " [ 1.41143533]\n",
            " [ 1.41143533]\n",
            " [ 1.41143533]\n",
            " [ 1.41143533]\n",
            " [ 1.41143533]\n",
            " [ 1.41143533]\n",
            " [ 1.41143533]\n",
            " [ 1.41143533]\n",
            " [ 1.41143533]\n",
            " [ 1.41143533]\n",
            " [ 1.41143533]\n",
            " [ 1.41143533]\n",
            " [ 1.41143533]\n",
            " [ 1.41143533]\n",
            " [ 1.41143533]\n",
            " [ 1.41143533]\n",
            " [ 1.41143533]\n",
            " [ 1.41143533]\n",
            " [ 1.41143533]\n",
            " [ 1.41143533]\n",
            " [ 1.41143533]\n",
            " [ 1.41143533]\n",
            " [ 1.41143533]\n",
            " [ 1.41143533]\n",
            " [ 1.41143533]\n",
            " [ 1.41143533]\n",
            " [ 1.41143533]\n",
            " [ 1.41143533]\n",
            " [ 1.41143533]\n",
            " [ 1.41143533]\n",
            " [ 1.41143533]\n",
            " [ 1.41143533]\n",
            " [ 1.41143533]\n",
            " [ 1.41143533]\n",
            " [ 1.41143533]\n",
            " [ 1.41143533]\n",
            " [ 1.41143533]\n",
            " [ 1.41143533]\n",
            " [ 1.41143533]\n",
            " [ 1.41143533]\n",
            " [ 1.41143533]\n",
            " [ 1.41143533]\n",
            " [ 1.41143533]\n",
            " [ 1.41143533]\n",
            " [ 1.41143533]\n",
            " [ 1.41143533]]\n"
          ]
        }
      ]
    },
    {
      "cell_type": "code",
      "source": [
        "#split the dat ainto training and test sets\n",
        "from sklearn.model_selection import train_test_split\n",
        "X_train, X_test, y_train, y_test = train_test_split(X, y, test_size = 0.25, random_state = 0)"
      ],
      "metadata": {
        "id": "uiw_9SI74PMU"
      },
      "execution_count": null,
      "outputs": []
    },
    {
      "cell_type": "code",
      "source": [
        "model = GaussianNB()"
      ],
      "metadata": {
        "id": "8t7_zqn14W0U"
      },
      "execution_count": null,
      "outputs": []
    },
    {
      "cell_type": "code",
      "source": [
        "model.fit(X_train, y_train)\n",
        "print(model)"
      ],
      "metadata": {
        "colab": {
          "base_uri": "https://localhost:8080/"
        },
        "id": "0s8g0-CE63C8",
        "outputId": "8bb484f0-0c10-4ad8-96dc-80e7c09edba3"
      },
      "execution_count": null,
      "outputs": [
        {
          "output_type": "stream",
          "name": "stdout",
          "text": [
            "GaussianNB()\n"
          ]
        }
      ]
    },
    {
      "cell_type": "code",
      "source": [
        "predicted = model.predict(X_test)\n",
        "print(predicted)"
      ],
      "metadata": {
        "colab": {
          "base_uri": "https://localhost:8080/"
        },
        "id": "6_kAYReq5rTt",
        "outputId": "ae3fbe63-14a3-44cf-b620-1354218ac9c1"
      },
      "execution_count": null,
      "outputs": [
        {
          "output_type": "stream",
          "name": "stdout",
          "text": [
            "[5 8 6 5 5 5 8 6 8 8 3 5 8 8 3 5 8 6 3 3 5 6 8 8 3 8 8 6 8 8 3 5 8 8 5 6 5\n",
            " 5 8 6 8 8 6 3 6 8 3 3 7 8 6 6 6 5 6 8 5 6 5 5 6 6 8 8 6 8 8 8 8 8 5 6 6 3\n",
            " 3 8 8 8 5 8 5 6 7 3 8 8 6 3 5 6 3 3 8 6]\n"
          ]
        }
      ]
    },
    {
      "cell_type": "code",
      "source": [
        "from sklearn.metrics import accuracy_score, confusion_matrix\n",
        "metrics.confusion_matrix(predicted, y_test)"
      ],
      "metadata": {
        "colab": {
          "base_uri": "https://localhost:8080/"
        },
        "id": "LgtYYK-a66lF",
        "outputId": "8fac48d0-b5f6-4cfc-8827-e5dbbdc7642f"
      },
      "execution_count": null,
      "outputs": [
        {
          "output_type": "execute_result",
          "data": {
            "text/plain": [
              "array([[15,  0,  0,  0,  0,  0],\n",
              "       [ 0,  0,  0,  0,  0,  0],\n",
              "       [ 0,  6, 12,  1,  0,  0],\n",
              "       [ 0,  6,  3, 12,  2,  0],\n",
              "       [ 0,  0,  0,  0,  0,  2],\n",
              "       [ 0,  0,  0,  2, 12, 21]])"
            ]
          },
          "metadata": {},
          "execution_count": 66
        }
      ]
    },
    {
      "cell_type": "code",
      "source": [
        "model_score = model.score(X_test, y_test)\n",
        "model_score"
      ],
      "metadata": {
        "colab": {
          "base_uri": "https://localhost:8080/"
        },
        "id": "felfyVWq68VX",
        "outputId": "bfb11bae-0ef1-4b09-9edb-c7a6bddd7b89"
      },
      "execution_count": null,
      "outputs": [
        {
          "output_type": "execute_result",
          "data": {
            "text/plain": [
              "0.6382978723404256"
            ]
          },
          "metadata": {},
          "execution_count": 71
        }
      ]
    },
    {
      "cell_type": "code",
      "source": [
        "y_predictProb = model.predict_proba(X_test)\n",
        "print(y_predictProb)"
      ],
      "metadata": {
        "colab": {
          "base_uri": "https://localhost:8080/"
        },
        "id": "Ah8zsqoA7AC4",
        "outputId": "4c172b46-e393-41cb-a7c8-1785426c2f1f"
      },
      "execution_count": null,
      "outputs": [
        {
          "output_type": "stream",
          "name": "stdout",
          "text": [
            "[[1.44686319e-006 3.30396144e-001 6.54634714e-001 1.45767023e-002\n",
            "  3.65051938e-004 2.59406112e-005]\n",
            " [7.49207984e-056 3.56111023e-003 6.02915594e-012 1.75681991e-002\n",
            "  3.93102728e-001 5.85767962e-001]\n",
            " [1.00689824e-024 3.17526553e-001 3.43908666e-003 5.48790859e-001\n",
            "  8.24363488e-002 4.78071526e-002]\n",
            " [1.44686319e-006 3.30396144e-001 6.54634714e-001 1.45767023e-002\n",
            "  3.65051938e-004 2.59406112e-005]\n",
            " [1.44686319e-006 3.30396144e-001 6.54634714e-001 1.45767023e-002\n",
            "  3.65051938e-004 2.59406112e-005]\n",
            " [1.44686319e-006 3.30396144e-001 6.54634714e-001 1.45767023e-002\n",
            "  3.65051938e-004 2.59406112e-005]\n",
            " [7.49207984e-056 3.56111023e-003 6.02915594e-012 1.75681991e-002\n",
            "  3.93102728e-001 5.85767962e-001]\n",
            " [1.00689824e-024 3.17526553e-001 3.43908666e-003 5.48790859e-001\n",
            "  8.24363488e-002 4.78071526e-002]\n",
            " [7.49207984e-056 3.56111023e-003 6.02915594e-012 1.75681991e-002\n",
            "  3.93102728e-001 5.85767962e-001]\n",
            " [7.49207984e-056 3.56111023e-003 6.02915594e-012 1.75681991e-002\n",
            "  3.93102728e-001 5.85767962e-001]\n",
            " [9.82090198e-001 1.77244798e-002 1.83716249e-004 1.45448020e-006\n",
            "  1.50812419e-007 4.13438495e-010]\n",
            " [1.44686319e-006 3.30396144e-001 6.54634714e-001 1.45767023e-002\n",
            "  3.65051938e-004 2.59406112e-005]\n",
            " [7.49207984e-056 3.56111023e-003 6.02915594e-012 1.75681991e-002\n",
            "  3.93102728e-001 5.85767962e-001]\n",
            " [7.49207984e-056 3.56111023e-003 6.02915594e-012 1.75681991e-002\n",
            "  3.93102728e-001 5.85767962e-001]\n",
            " [9.82090198e-001 1.77244798e-002 1.83716249e-004 1.45448020e-006\n",
            "  1.50812419e-007 4.13438495e-010]\n",
            " [1.44686319e-006 3.30396144e-001 6.54634714e-001 1.45767023e-002\n",
            "  3.65051938e-004 2.59406112e-005]\n",
            " [7.49207984e-056 3.56111023e-003 6.02915594e-012 1.75681991e-002\n",
            "  3.93102728e-001 5.85767962e-001]\n",
            " [1.00689824e-024 3.17526553e-001 3.43908666e-003 5.48790859e-001\n",
            "  8.24363488e-002 4.78071526e-002]\n",
            " [9.82090198e-001 1.77244798e-002 1.83716249e-004 1.45448020e-006\n",
            "  1.50812419e-007 4.13438495e-010]\n",
            " [9.82090198e-001 1.77244798e-002 1.83716249e-004 1.45448020e-006\n",
            "  1.50812419e-007 4.13438495e-010]\n",
            " [1.44686319e-006 3.30396144e-001 6.54634714e-001 1.45767023e-002\n",
            "  3.65051938e-004 2.59406112e-005]\n",
            " [1.00689824e-024 3.17526553e-001 3.43908666e-003 5.48790859e-001\n",
            "  8.24363488e-002 4.78071526e-002]\n",
            " [7.49207984e-056 3.56111023e-003 6.02915594e-012 1.75681991e-002\n",
            "  3.93102728e-001 5.85767962e-001]\n",
            " [7.49207984e-056 3.56111023e-003 6.02915594e-012 1.75681991e-002\n",
            "  3.93102728e-001 5.85767962e-001]\n",
            " [9.82090198e-001 1.77244798e-002 1.83716249e-004 1.45448020e-006\n",
            "  1.50812419e-007 4.13438495e-010]\n",
            " [7.49207984e-056 3.56111023e-003 6.02915594e-012 1.75681991e-002\n",
            "  3.93102728e-001 5.85767962e-001]\n",
            " [7.49207984e-056 3.56111023e-003 6.02915594e-012 1.75681991e-002\n",
            "  3.93102728e-001 5.85767962e-001]\n",
            " [1.00689824e-024 3.17526553e-001 3.43908666e-003 5.48790859e-001\n",
            "  8.24363488e-002 4.78071526e-002]\n",
            " [7.49207984e-056 3.56111023e-003 6.02915594e-012 1.75681991e-002\n",
            "  3.93102728e-001 5.85767962e-001]\n",
            " [7.49207984e-056 3.56111023e-003 6.02915594e-012 1.75681991e-002\n",
            "  3.93102728e-001 5.85767962e-001]\n",
            " [9.82090198e-001 1.77244798e-002 1.83716249e-004 1.45448020e-006\n",
            "  1.50812419e-007 4.13438495e-010]\n",
            " [1.44686319e-006 3.30396144e-001 6.54634714e-001 1.45767023e-002\n",
            "  3.65051938e-004 2.59406112e-005]\n",
            " [7.49207984e-056 3.56111023e-003 6.02915594e-012 1.75681991e-002\n",
            "  3.93102728e-001 5.85767962e-001]\n",
            " [7.49207984e-056 3.56111023e-003 6.02915594e-012 1.75681991e-002\n",
            "  3.93102728e-001 5.85767962e-001]\n",
            " [1.44686319e-006 3.30396144e-001 6.54634714e-001 1.45767023e-002\n",
            "  3.65051938e-004 2.59406112e-005]\n",
            " [1.00689824e-024 3.17526553e-001 3.43908666e-003 5.48790859e-001\n",
            "  8.24363488e-002 4.78071526e-002]\n",
            " [1.44686319e-006 3.30396144e-001 6.54634714e-001 1.45767023e-002\n",
            "  3.65051938e-004 2.59406112e-005]\n",
            " [1.44686319e-006 3.30396144e-001 6.54634714e-001 1.45767023e-002\n",
            "  3.65051938e-004 2.59406112e-005]\n",
            " [7.49207984e-056 3.56111023e-003 6.02915594e-012 1.75681991e-002\n",
            "  3.93102728e-001 5.85767962e-001]\n",
            " [1.00689824e-024 3.17526553e-001 3.43908666e-003 5.48790859e-001\n",
            "  8.24363488e-002 4.78071526e-002]\n",
            " [7.49207984e-056 3.56111023e-003 6.02915594e-012 1.75681991e-002\n",
            "  3.93102728e-001 5.85767962e-001]\n",
            " [7.49207984e-056 3.56111023e-003 6.02915594e-012 1.75681991e-002\n",
            "  3.93102728e-001 5.85767962e-001]\n",
            " [1.00689824e-024 3.17526553e-001 3.43908666e-003 5.48790859e-001\n",
            "  8.24363488e-002 4.78071526e-002]\n",
            " [9.82090198e-001 1.77244798e-002 1.83716249e-004 1.45448020e-006\n",
            "  1.50812419e-007 4.13438495e-010]\n",
            " [1.00689824e-024 3.17526553e-001 3.43908666e-003 5.48790859e-001\n",
            "  8.24363488e-002 4.78071526e-002]\n",
            " [7.49207984e-056 3.56111023e-003 6.02915594e-012 1.75681991e-002\n",
            "  3.93102728e-001 5.85767962e-001]\n",
            " [9.82090198e-001 1.77244798e-002 1.83716249e-004 1.45448020e-006\n",
            "  1.50812419e-007 4.13438495e-010]\n",
            " [9.82090198e-001 1.77244798e-002 1.83716249e-004 1.45448020e-006\n",
            "  1.50812419e-007 4.13438495e-010]\n",
            " [4.60862651e-153 6.47047842e-009 6.25965811e-045 1.00611067e-010\n",
            "  7.65085044e-001 2.34914949e-001]\n",
            " [7.49207984e-056 3.56111023e-003 6.02915594e-012 1.75681991e-002\n",
            "  3.93102728e-001 5.85767962e-001]\n",
            " [1.00689824e-024 3.17526553e-001 3.43908666e-003 5.48790859e-001\n",
            "  8.24363488e-002 4.78071526e-002]\n",
            " [1.00689824e-024 3.17526553e-001 3.43908666e-003 5.48790859e-001\n",
            "  8.24363488e-002 4.78071526e-002]\n",
            " [1.00689824e-024 3.17526553e-001 3.43908666e-003 5.48790859e-001\n",
            "  8.24363488e-002 4.78071526e-002]\n",
            " [1.44686319e-006 3.30396144e-001 6.54634714e-001 1.45767023e-002\n",
            "  3.65051938e-004 2.59406112e-005]\n",
            " [1.00689824e-024 3.17526553e-001 3.43908666e-003 5.48790859e-001\n",
            "  8.24363488e-002 4.78071526e-002]\n",
            " [7.49207984e-056 3.56111023e-003 6.02915594e-012 1.75681991e-002\n",
            "  3.93102728e-001 5.85767962e-001]\n",
            " [1.44686319e-006 3.30396144e-001 6.54634714e-001 1.45767023e-002\n",
            "  3.65051938e-004 2.59406112e-005]\n",
            " [1.00689824e-024 3.17526553e-001 3.43908666e-003 5.48790859e-001\n",
            "  8.24363488e-002 4.78071526e-002]\n",
            " [1.44686319e-006 3.30396144e-001 6.54634714e-001 1.45767023e-002\n",
            "  3.65051938e-004 2.59406112e-005]\n",
            " [1.44686319e-006 3.30396144e-001 6.54634714e-001 1.45767023e-002\n",
            "  3.65051938e-004 2.59406112e-005]\n",
            " [1.00689824e-024 3.17526553e-001 3.43908666e-003 5.48790859e-001\n",
            "  8.24363488e-002 4.78071526e-002]\n",
            " [1.00689824e-024 3.17526553e-001 3.43908666e-003 5.48790859e-001\n",
            "  8.24363488e-002 4.78071526e-002]\n",
            " [7.49207984e-056 3.56111023e-003 6.02915594e-012 1.75681991e-002\n",
            "  3.93102728e-001 5.85767962e-001]\n",
            " [7.49207984e-056 3.56111023e-003 6.02915594e-012 1.75681991e-002\n",
            "  3.93102728e-001 5.85767962e-001]\n",
            " [1.00689824e-024 3.17526553e-001 3.43908666e-003 5.48790859e-001\n",
            "  8.24363488e-002 4.78071526e-002]\n",
            " [7.49207984e-056 3.56111023e-003 6.02915594e-012 1.75681991e-002\n",
            "  3.93102728e-001 5.85767962e-001]\n",
            " [7.49207984e-056 3.56111023e-003 6.02915594e-012 1.75681991e-002\n",
            "  3.93102728e-001 5.85767962e-001]\n",
            " [7.49207984e-056 3.56111023e-003 6.02915594e-012 1.75681991e-002\n",
            "  3.93102728e-001 5.85767962e-001]\n",
            " [7.49207984e-056 3.56111023e-003 6.02915594e-012 1.75681991e-002\n",
            "  3.93102728e-001 5.85767962e-001]\n",
            " [7.49207984e-056 3.56111023e-003 6.02915594e-012 1.75681991e-002\n",
            "  3.93102728e-001 5.85767962e-001]\n",
            " [1.44686319e-006 3.30396144e-001 6.54634714e-001 1.45767023e-002\n",
            "  3.65051938e-004 2.59406112e-005]\n",
            " [1.00689824e-024 3.17526553e-001 3.43908666e-003 5.48790859e-001\n",
            "  8.24363488e-002 4.78071526e-002]\n",
            " [1.00689824e-024 3.17526553e-001 3.43908666e-003 5.48790859e-001\n",
            "  8.24363488e-002 4.78071526e-002]\n",
            " [9.82090198e-001 1.77244798e-002 1.83716249e-004 1.45448020e-006\n",
            "  1.50812419e-007 4.13438495e-010]\n",
            " [9.82090198e-001 1.77244798e-002 1.83716249e-004 1.45448020e-006\n",
            "  1.50812419e-007 4.13438495e-010]\n",
            " [7.49207984e-056 3.56111023e-003 6.02915594e-012 1.75681991e-002\n",
            "  3.93102728e-001 5.85767962e-001]\n",
            " [7.49207984e-056 3.56111023e-003 6.02915594e-012 1.75681991e-002\n",
            "  3.93102728e-001 5.85767962e-001]\n",
            " [7.49207984e-056 3.56111023e-003 6.02915594e-012 1.75681991e-002\n",
            "  3.93102728e-001 5.85767962e-001]\n",
            " [1.44686319e-006 3.30396144e-001 6.54634714e-001 1.45767023e-002\n",
            "  3.65051938e-004 2.59406112e-005]\n",
            " [7.49207984e-056 3.56111023e-003 6.02915594e-012 1.75681991e-002\n",
            "  3.93102728e-001 5.85767962e-001]\n",
            " [1.44686319e-006 3.30396144e-001 6.54634714e-001 1.45767023e-002\n",
            "  3.65051938e-004 2.59406112e-005]\n",
            " [1.00689824e-024 3.17526553e-001 3.43908666e-003 5.48790859e-001\n",
            "  8.24363488e-002 4.78071526e-002]\n",
            " [4.60862651e-153 6.47047842e-009 6.25965811e-045 1.00611067e-010\n",
            "  7.65085044e-001 2.34914949e-001]\n",
            " [9.82090198e-001 1.77244798e-002 1.83716249e-004 1.45448020e-006\n",
            "  1.50812419e-007 4.13438495e-010]\n",
            " [7.49207984e-056 3.56111023e-003 6.02915594e-012 1.75681991e-002\n",
            "  3.93102728e-001 5.85767962e-001]\n",
            " [7.49207984e-056 3.56111023e-003 6.02915594e-012 1.75681991e-002\n",
            "  3.93102728e-001 5.85767962e-001]\n",
            " [1.00689824e-024 3.17526553e-001 3.43908666e-003 5.48790859e-001\n",
            "  8.24363488e-002 4.78071526e-002]\n",
            " [9.82090198e-001 1.77244798e-002 1.83716249e-004 1.45448020e-006\n",
            "  1.50812419e-007 4.13438495e-010]\n",
            " [1.44686319e-006 3.30396144e-001 6.54634714e-001 1.45767023e-002\n",
            "  3.65051938e-004 2.59406112e-005]\n",
            " [1.00689824e-024 3.17526553e-001 3.43908666e-003 5.48790859e-001\n",
            "  8.24363488e-002 4.78071526e-002]\n",
            " [9.82090198e-001 1.77244798e-002 1.83716249e-004 1.45448020e-006\n",
            "  1.50812419e-007 4.13438495e-010]\n",
            " [9.82090198e-001 1.77244798e-002 1.83716249e-004 1.45448020e-006\n",
            "  1.50812419e-007 4.13438495e-010]\n",
            " [7.49207984e-056 3.56111023e-003 6.02915594e-012 1.75681991e-002\n",
            "  3.93102728e-001 5.85767962e-001]\n",
            " [1.00689824e-024 3.17526553e-001 3.43908666e-003 5.48790859e-001\n",
            "  8.24363488e-002 4.78071526e-002]]\n"
          ]
        }
      ]
    },
    {
      "source": [
        "from sklearn.metrics import auc, roc_curve\n",
        "from sklearn.preprocessing import label_binarize\n",
        "\n",
        "# Binarize the labels\n",
        "y_test_binarized = label_binarize(y_test, classes=range(y_predictProb.shape[1]))\n",
        "\n",
        "# Calculate ROC curve and AUC for each class\n",
        "fpr = dict()\n",
        "tpr = dict()\n",
        "roc_auc = dict()\n",
        "for i in range(y_predictProb.shape[1]):\n",
        "    fpr[i], tpr[i], _ = roc_curve(y_test_binarized[:, i], y_predictProb[:, i])\n",
        "    roc_auc[i] = auc(fpr[i], tpr[i])\n",
        "\n",
        "# Print AUC for each class\n",
        "for i in range(y_predictProb.shape[1]):\n",
        "    print(f\"AUC for class {i}: {roc_auc[i]}\")"
      ],
      "cell_type": "code",
      "metadata": {
        "colab": {
          "base_uri": "https://localhost:8080/"
        },
        "id": "RMdapoOW7aGt",
        "outputId": "9814ff49-2140-4403-cd12-684f66b9ec9d"
      },
      "execution_count": null,
      "outputs": [
        {
          "output_type": "stream",
          "name": "stdout",
          "text": [
            "AUC for class 0: nan\n",
            "AUC for class 1: nan\n",
            "AUC for class 2: nan\n",
            "AUC for class 3: 0.025316455696202556\n",
            "AUC for class 4: 0.35365853658536583\n",
            "AUC for class 5: 0.2683544303797468\n"
          ]
        },
        {
          "output_type": "stream",
          "name": "stderr",
          "text": [
            "/usr/local/lib/python3.10/dist-packages/sklearn/metrics/_ranking.py:1029: UndefinedMetricWarning: No positive samples in y_true, true positive value should be meaningless\n",
            "  warnings.warn(\n",
            "/usr/local/lib/python3.10/dist-packages/sklearn/metrics/_ranking.py:1029: UndefinedMetricWarning: No positive samples in y_true, true positive value should be meaningless\n",
            "  warnings.warn(\n",
            "/usr/local/lib/python3.10/dist-packages/sklearn/metrics/_ranking.py:1029: UndefinedMetricWarning: No positive samples in y_true, true positive value should be meaningless\n",
            "  warnings.warn(\n"
          ]
        }
      ]
    },
    {
      "source": [
        "import matplotlib.pyplot as plt\n",
        "\n",
        "# Plot ROC Curve for each class\n",
        "for i in range(y_predictProb.shape[1]):\n",
        "    plt.plot(fpr[i], tpr[i], label='ROC curve (area = %0.2f)' % roc_auc[i])\n",
        "\n",
        "plt.plot([0, 1], [0, 1], color='navy', linestyle='--')\n",
        "plt.xlabel('False Positive Rate')\n",
        "plt.ylabel('True Positive Rate')\n",
        "plt.title('Receiver operating characteristic')\n",
        "plt.legend(loc=\"lower right\")\n",
        "plt.show()"
      ],
      "cell_type": "code",
      "metadata": {
        "colab": {
          "base_uri": "https://localhost:8080/",
          "height": 472
        },
        "id": "V0f6KEs67xvR",
        "outputId": "f890e6ca-18cb-46da-d2ad-1286d3deea20"
      },
      "execution_count": null,
      "outputs": [
        {
          "output_type": "display_data",
          "data": {
            "text/plain": [
              "<Figure size 640x480 with 1 Axes>"
            ],
            "image/png": "[encoded data removed]"
          },
          "metadata": {}
        }
      ]
    },
    {
      "cell_type": "code",
      "source": [
        "# prompt: create a cofusion\n",
        "\n",
        "from sklearn.metrics import confusion_matrix\n",
        "import pandas as pd\n",
        "import seaborn as sns\n",
        "cm = confusion_matrix(y_test, predicted)\n",
        "sns.heatmap(pd.DataFrame(cm), annot=True, cmap=\"YlGnBu\" , fmt='g')\n",
        "plt.tight_layout()\n",
        "plt.title('Confusion Matrix', y=1.1)\n",
        "plt.ylabel('Actual label')\n",
        "plt.xlabel('Predicted label')\n",
        "plt.show()\n"
      ],
      "metadata": {
        "colab": {
          "base_uri": "https://localhost:8080/",
          "height": 571
        },
        "id": "8mMbhnVl8FPV",
        "outputId": "ec3bb651-2cde-4f0d-984e-6f9b420d43cc"
      },
      "execution_count": null,
      "outputs": [
        {
          "output_type": "display_data",
          "data": {
            "text/plain": [
              "<Figure size 640x480 with 2 Axes>"
            ],
            "image/png": "[encoded data removed]"
          },
          "metadata": {}
        }
      ]
    }
  ]
}